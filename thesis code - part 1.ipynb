{
 "cells": [
  {
   "cell_type": "code",
   "execution_count": null,
   "id": "c50532d5",
   "metadata": {},
   "outputs": [],
   "source": [
    "#import sep\n",
    "import astropy.io.fits\n",
    "import numpy as np\n",
    "import matplotlib.pyplot as plt\n",
    "from matplotlib import rcParams\n",
    "from astropy.io import fits"
   ]
  },
  {
   "cell_type": "code",
   "execution_count": null,
   "id": "d7d78374",
   "metadata": {},
   "outputs": [],
   "source": [
    "%matplotlib inline\n",
    "\n",
    "rcParams['figure.figsize'] = [10., 4.]"
   ]
  },
  {
   "cell_type": "code",
   "execution_count": null,
   "id": "a241dc01",
   "metadata": {
    "scrolled": true
   },
   "outputs": [],
   "source": [
    "# read WHT image into standard 2-d numpy array and SCI image plot\n",
    "\n",
    "uri1 = \"https://s3.amazonaws.com/grizli-v2/JwstMosaics/v6/sub-primer-uds-grizli-v6.0-ir_drc_sci.fits\"\n",
    "uri2 = \"https://s3.amazonaws.com/grizli-v2/JwstMosaics/v6/sub-primer-uds-grizli-v6.0-ir_drc_wht.fits\"\n",
    "\n",
    "with fits.open(uri1, use_fsspec=True, fsspec_kwargs={\"anon\": True}) as hdul:  \n",
    "   data = hdul[0].data\n",
    "   \n"
   ]
  },
  {
   "cell_type": "code",
   "execution_count": null,
   "id": "58cae7e7",
   "metadata": {},
   "outputs": [],
   "source": [
    "with fits.open(uri2, use_fsspec=True, fsspec_kwargs={\"anon\": True}) as hdul:  \n",
    "   data1 = hdul[0].data\n",
    "\n",
    "wht_data = np.array(data1.data)\n",
    "\n",
    "hdu_list = fits.open(uri1)\n",
    "hdu_list.info()\n",
    "print(data.shape)\n",
    "hdu_list.close()\n",
    "\n",
    "hdu_list = fits.open(uri2)\n",
    "hdu_list.info()\n",
    "print(wht_data.shape)\n",
    "print(type(wht_data))\n",
    "hdu_list.close()"
   ]
  },
  {
   "cell_type": "code",
   "execution_count": null,
   "id": "93b75d1a",
   "metadata": {},
   "outputs": [],
   "source": [
    "# show the image\n",
    "m, s = np.mean(data), np.std(data)\n",
    "plt.imshow(data, interpolation='nearest', cmap='gray', vmin=m-s, vmax=m+s, origin='lower')\n",
    "plt.colorbar();"
   ]
  },
  {
   "cell_type": "code",
   "execution_count": null,
   "id": "dc3aae01",
   "metadata": {},
   "outputs": [],
   "source": [
    "data = data.byteswap().newbyteorder()\n",
    "# measure a spatially varying background on the image\n",
    "#bkg1 = sep.Background(data1)\n",
    "bkg = sep.Background(data, bw=64, bh=64, fw=3, fh=3)\n",
    "\n",
    "# get a \"global\" mean and noise of the image background:\n",
    "print(\"Global mean = \",bkg.globalback)\n",
    "print(\"Global noise = \",bkg.globalrms)\n",
    "\n",
    "# evaluate background as 2-d array, same size as original image\n",
    "bkg_image = bkg.back()\n",
    "# bkg_image = np.array(bkg) # equivalent to above\n",
    "\n",
    "# show the background\n",
    "plt.imshow(bkg_image, interpolation='nearest', cmap='gray', origin='lower')\n",
    "plt.colorbar();\n",
    "\n",
    "# evaluate the background noise as 2-d array, same size as original image\n",
    "bkg_rms = bkg.rms()"
   ]
  },
  {
   "cell_type": "code",
   "execution_count": null,
   "id": "e09e1f42",
   "metadata": {},
   "outputs": [],
   "source": [
    "# show the background noise\n",
    "plt.imshow(bkg_rms, interpolation='nearest', cmap='gray', origin='lower')\n",
    "plt.colorbar();\n",
    "\n",
    "# subtract the background\n",
    "data_sub = data - bkg\n",
    "#plt.imshow(data_sub, interpolation='nearest', cmap='gray', origin='lower')\n",
    "#plt.plot()"
   ]
  },
  {
   "cell_type": "code",
   "execution_count": null,
   "id": "b2c129ec",
   "metadata": {},
   "outputs": [],
   "source": [
    "#Limit for active pixels in calculation (has to be over 10^6 to work properly, possibly more)\n",
    "sep.set_extract_pixstack(1000000)\n",
    "objects = sep.extract(data_sub, 5, err=np.sqrt(1/wht_data),segmentation_map=True)\n",
    "#change second parameter in order to act on the detection threshold\n",
    "#optional kernel"
   ]
  },
  {
   "cell_type": "code",
   "execution_count": null,
   "id": "8002bf09",
   "metadata": {},
   "outputs": [],
   "source": [
    "objectlist = []\n",
    "segmentation = []\n",
    "objectlist = np.array(objectlist)\n",
    "segmentation = np.array(segmentation)\n",
    "objectlist = objects[0]\n",
    "segmentation = objects[1]\n",
    "\n",
    "# how many objects were detected + segmentation map (reversed)\n",
    "print(\"Number of objects:\", len(objectlist))\n",
    "plt.imshow(segmentation)"
   ]
  },
  {
   "cell_type": "code",
   "execution_count": null,
   "id": "6593d250",
   "metadata": {},
   "outputs": [],
   "source": [
    "from matplotlib.patches import Ellipse\n",
    "\n",
    "# plot background-subtracted image\n",
    "fig, ax = plt.subplots()\n",
    "m, s = np.mean(data_sub), np.std(data_sub)\n",
    "im = ax.imshow(data_sub, interpolation='nearest', cmap='gray',\n",
    "               vmin=m-s, vmax=m+s, origin='lower')\n",
    "\n",
    "# plot an ellipse for each object\n",
    "for i in range(len(objectlist)):\n",
    "    e = Ellipse(xy=(objectlist['x'][i], objectlist['y'][i]),\n",
    "                width=6*objectlist['a'][i],\n",
    "                height=6*objectlist['b'][i],\n",
    "                angle=objectlist['theta'][i] * 180. / np.pi)\n",
    "    e.set_facecolor('none')\n",
    "    e.set_edgecolor('red')\n",
    "    ax.add_artist(e)"
   ]
  },
  {
   "cell_type": "code",
   "execution_count": null,
   "id": "93a2c7a5",
   "metadata": {},
   "outputs": [],
   "source": [
    "flux, fluxerr, flag = sep.sum_circle(data_sub, objectlist['x'], objectlist['y'],\n",
    "                                     0.35, err=np.sqrt(1/wht_data), gain=1.0)\n",
    "\n",
    "# show the first 10 objects results:\n",
    "for i in range(10):\n",
    "    print(\"object {:d}: flux = {:f} +/- {:f}\".format(i, flux[i], fluxerr[i]))"
   ]
  }
 ],
 "metadata": {
  "@webio": {
   "lastCommId": null,
   "lastKernelId": null
  },
  "kernelspec": {
   "display_name": "Python 3 (ipykernel)",
   "language": "python",
   "name": "python3"
  },
  "language_info": {
   "codemirror_mode": {
    "name": "ipython",
    "version": 3
   },
   "file_extension": ".py",
   "mimetype": "text/x-python",
   "name": "python",
   "nbconvert_exporter": "python",
   "pygments_lexer": "ipython3",
   "version": "3.11.3"
  }
 },
 "nbformat": 4,
 "nbformat_minor": 5
}
